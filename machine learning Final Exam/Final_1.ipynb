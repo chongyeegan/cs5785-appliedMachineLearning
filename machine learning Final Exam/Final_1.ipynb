{
 "cells": [
  {
   "cell_type": "code",
   "execution_count": null,
   "metadata": {
    "collapsed": false
   },
   "outputs": [],
   "source": [
    "%pylab inline"
   ]
  },
  {
   "cell_type": "code",
   "execution_count": null,
   "metadata": {
    "collapsed": false
   },
   "outputs": [],
   "source": [
    "import numpy as np\n",
    "import matplotlib.pyplot as pt\n",
    "import matplotlib.image as img\n",
    "from PIL import Image\n",
    "from skimage import color\n",
    "from sklearn.ensemble import RandomForestRegressor\n",
    "from sklearn.neighbors import KNeighborsRegressor\n",
    "from sklearn.ensemble import RandomForestClassifier\n",
    "from sklearn.neighbors import KNeighborsClassifier\n",
    "from sklearn.neighbors import KNeighborsRegressor\n",
    "from sklearn.cluster import KMeans\n",
    "from sklearn.naive_bayes import GaussianNB\n",
    "from sklearn.naive_bayes import BernoulliNB\n",
    "from sklearn import cross_validation\n",
    "from sklearn import linear_model, datasets\n",
    "#import pydot\n",
    "from sklearn import tree\n",
    "from sklearn.externals.six import StringIO"
   ]
  },
  {
   "cell_type": "code",
   "execution_count": null,
   "metadata": {
    "collapsed": true
   },
   "outputs": [],
   "source": [
    "#Returns dictionary of labels; key is label as string, value is a unique index\n",
    "def get_category_labels_as_dict():\n",
    "    category_dict = {}\n",
    "    num_category = 0\n",
    "    with open('./CS5785-final-data/train.txt') as f:\n",
    "        lines = f.read().splitlines()\n",
    "        for line in lines:\n",
    "            tokens = line.split(' ')\n",
    "            if not category_dict.has_key(tokens[1]):\n",
    "                category_dict[tokens[1]] = num_category\n",
    "                num_category += 1\n",
    "    return category_dict"
   ]
  },
  {
   "cell_type": "code",
   "execution_count": null,
   "metadata": {
    "collapsed": false
   },
   "outputs": [],
   "source": [
    "#Returns labels of training set as an array of strings\n",
    "def get_train_labels():\n",
    "    train_labels = []\n",
    "    with open('./CS5785-final-data/train.txt') as f:\n",
    "        lines = f.read().splitlines()\n",
    "        for line in lines:\n",
    "            tokens = line.split(' ')\n",
    "            train_labels.append(tokens[1])\n",
    "    return train_labels"
   ]
  },
  {
   "cell_type": "code",
   "execution_count": null,
   "metadata": {
    "collapsed": true
   },
   "outputs": [],
   "source": [
    "#Returns train labels as numpy array, each label is unique index; params: dictionary of label to unique index, array of labels as strings\n",
    "#Usage: get_train_labels_as_unique_indices(get_category_labels_as_dict(), get_train_labels())\n",
    "def get_train_labels_as_unique_indices(label_dictionary, train_label_array):\n",
    "    train_labels_as_index = []\n",
    "    for i in range(len(train_label_array)):\n",
    "        label_name = train_label_array[i]\n",
    "        index = label_dictionary[label_name]\n",
    "        train_labels_as_index.append(index)\n",
    "    return np.array(train_labels_as_index)"
   ]
  },
  {
   "cell_type": "markdown",
   "metadata": {},
   "source": [
    "Representation method 1: Boolean 102 keywords"
   ]
  },
  {
   "cell_type": "code",
   "execution_count": null,
   "metadata": {
    "collapsed": false
   },
   "outputs": [],
   "source": [
    "#Returns attributes of train data as numpy array\n",
    "def get_train_attributes():\n",
    "    feature_vectors = []\n",
    "    with open('./CS5785-final-data/attributes_train.txt') as f:\n",
    "        lines = f.read().splitlines()\n",
    "        for line in lines:\n",
    "            tokens = line.split(' ')\n",
    "            values = tokens[1].split(',')\n",
    "            fv = []\n",
    "            for value in values:\n",
    "                fv.append(int(value))\n",
    "            feature_vectors.append(fv)\n",
    "    return np.array(feature_vectors)"
   ]
  },
  {
   "cell_type": "code",
   "execution_count": null,
   "metadata": {
    "collapsed": true
   },
   "outputs": [],
   "source": [
    "#Returns attributes of test data as numpy array\n",
    "def get_test_attributes():\n",
    "    feature_vectors = []\n",
    "    with open('./CS5785-final-data/attributes_test.txt') as f:\n",
    "        lines = f.read().splitlines()\n",
    "        for line in lines:\n",
    "            tokens = line.split(' ')\n",
    "            values = tokens[1].split(',')\n",
    "            fv = []\n",
    "            for value in values:\n",
    "                fv.append(int(value))\n",
    "            feature_vectors.append(fv)\n",
    "    return np.array(feature_vectors)"
   ]
  },
  {
   "cell_type": "markdown",
   "metadata": {},
   "source": [
    "Representation method 2: SIFT array"
   ]
  },
  {
   "cell_type": "code",
   "execution_count": null,
   "metadata": {
    "collapsed": true
   },
   "outputs": [],
   "source": [
    "#Returns SIFT attributes of training data as numpy array\n",
    "def get_train_SIFT():\n",
    "    return np.load('./CS5785-final-data/SIFTBoW_train.npy')"
   ]
  },
  {
   "cell_type": "code",
   "execution_count": null,
   "metadata": {
    "collapsed": true
   },
   "outputs": [],
   "source": [
    "#Returns SIFT attributes of test data as numpy array\n",
    "def get_test_SIFT():\n",
    "    return np.load('./CS5785-final-data/SIFTBoW_test.npy')"
   ]
  },
  {
   "cell_type": "markdown",
   "metadata": {},
   "source": [
    "Representation method 3: ALEX array"
   ]
  },
  {
   "cell_type": "code",
   "execution_count": null,
   "metadata": {
    "collapsed": true
   },
   "outputs": [],
   "source": [
    "#Returns ALEX attributes of train data as numpy array\n",
    "def get_train_ALEX():\n",
    "    return np.load('./CS5785-final-data/alexnet_feat_train.npy')"
   ]
  },
  {
   "cell_type": "code",
   "execution_count": null,
   "metadata": {
    "collapsed": true
   },
   "outputs": [],
   "source": [
    "#Returns ALEX attributes of test data as numpy array\n",
    "def get_test_ALEX():\n",
    "    return np.load('./CS5785-final-data/alexnet_feat_test.npy')"
   ]
  },
  {
   "cell_type": "code",
   "execution_count": null,
   "metadata": {
    "collapsed": true
   },
   "outputs": [],
   "source": [
    "def get_crossvalidation(X_train, Y_train, n_fold, model):\n",
    "    cv = cross_validation.KFold(len(X_train), n_folds = n_fold)\n",
    "    \n",
    "    results = []\n",
    "    for traincv, testcv in cv:\n",
    "        results.append(cross_validation.cross_val_score(model, X_train[traincv], Y_train[traincv]))\n",
    "    \n",
    "    return np.array(results).mean()    "
   ]
  },
  {
   "cell_type": "code",
   "execution_count": null,
   "metadata": {
    "collapsed": false
   },
   "outputs": [],
   "source": [
    "categories = get_category_labels_as_dict()\n",
    "print len(categories)"
   ]
  },
  {
   "cell_type": "code",
   "execution_count": null,
   "metadata": {
    "collapsed": true
   },
   "outputs": [],
   "source": [
    "category_dictionary = get_category_labels_as_dict()\n",
    "Y_train_text = get_train_labels()"
   ]
  },
  {
   "cell_type": "code",
   "execution_count": null,
   "metadata": {
    "collapsed": false
   },
   "outputs": [],
   "source": [
    "X_train = get_train_attributes()\n",
    "Y_train = get_train_labels_as_unique_indices(category_dictionary, Y_train_text)\n",
    "X_test = get_test_attributes()"
   ]
  },
  {
   "cell_type": "code",
   "execution_count": null,
   "metadata": {
    "collapsed": false
   },
   "outputs": [],
   "source": [
    "lr = linear_model.LogisticRegression()\n",
    "Y_predicted_1 = lr.fit(X_train, Y_train).predict(X_test)"
   ]
  },
  {
   "cell_type": "code",
   "execution_count": null,
   "metadata": {
    "collapsed": false
   },
   "outputs": [],
   "source": [
    "X_train = get_train_ALEX()\n",
    "X_test = get_test_ALEX()\n",
    "#Y_predicted_2 = lr.fit(X_train, Y_train).predict(X_test)"
   ]
  },
  {
   "cell_type": "code",
   "execution_count": null,
   "metadata": {
    "collapsed": true
   },
   "outputs": [],
   "source": [
    "X_train = get_train_SIFT()\n",
    "X_test = get_test_SIFT()\n",
    "#Y_predicted_3 = lr.fit(X_train, Y_train).predict(X_test)"
   ]
  },
  {
   "cell_type": "code",
   "execution_count": null,
   "metadata": {
    "collapsed": false
   },
   "outputs": [],
   "source": [
    "Y_predicted = []\n",
    "for i in range (0, len(Y_predicted_1)):\n",
    "    vote = []\n",
    "    vote.append(Y_predicted_1[i])\n",
    "    vote.append(Y_predicted_2[i])\n",
    "    vote.append(Y_predicted_3[i])\n",
    "    if(vote.count(vote[1])>=2):\n",
    "        Y_predicted.append(vote[1])\n",
    "    else: Y_predicted.append(vote[0])\n",
    "Y_predicted = np.array(Y_predicted)"
   ]
  },
  {
   "cell_type": "code",
   "execution_count": null,
   "metadata": {
    "collapsed": true
   },
   "outputs": [],
   "source": [
    "from sklearn.ensemble import RandomForestClassifier\n",
    "RF = RandomForestClassifier()\n",
    "Y_predicted_RF = RF.fit(X_train, Y_train).predict(X_test)"
   ]
  },
  {
   "cell_type": "code",
   "execution_count": null,
   "metadata": {
    "collapsed": false
   },
   "outputs": [],
   "source": [
    "category = {}\n",
    "for i in categories:\n",
    "    category[categories[i]] = i"
   ]
  },
  {
   "cell_type": "code",
   "execution_count": null,
   "metadata": {
    "collapsed": false
   },
   "outputs": [],
   "source": [
    "Y_test = []\n",
    "with open('./CS5785-final-data/test.txt') as f:\n",
    "    lines = f.read().splitlines()\n",
    "    for line in lines:\n",
    "        Y_test.append(line)"
   ]
  },
  {
   "cell_type": "code",
   "execution_count": null,
   "metadata": {
    "collapsed": false
   },
   "outputs": [],
   "source": [
    "import csv\n",
    "\n",
    "with open('submission_1.csv', 'w') as csvfile:\n",
    "    fieldnames = ['ID', 'category']\n",
    "    writer = csv.DictWriter(csvfile, fieldnames=fieldnames)\n",
    "\n",
    "    writer.writeheader()\n",
    "    for i in range (0, 1000):\n",
    "        writer.writerow({'ID': Y_test[i], 'category': category[Y_predicted_svm[i]]})\n"
   ]
  },
  {
   "cell_type": "code",
   "execution_count": null,
   "metadata": {
    "collapsed": false
   },
   "outputs": [],
   "source": [
    "RF = RandomForestClassifier()\n",
    "lr = linear_model.LogisticRegression()\n",
    "gnb = GaussianNB()\n",
    "bnb = BernoulliNB()\n",
    "knnc = KNeighborsClassifier()\n",
    "knnr = KNeighborsRegressor()\n",
    "\n",
    "print get_crossvalidation(X_train, Y_train, 3, lr)\n",
    "print get_crossvalidation(X_train, Y_train, 3, RF)\n",
    "print get_crossvalidation(X_train, Y_train, 3, gnb)\n",
    "print get_crossvalidation(X_train, Y_train, 3, bnb)\n",
    "print get_crossvalidation(X_train, Y_train, 3, knn)"
   ]
  },
  {
   "cell_type": "code",
   "execution_count": null,
   "metadata": {
    "collapsed": true
   },
   "outputs": [],
   "source": []
  }
 ],
 "metadata": {
  "kernelspec": {
   "display_name": "Python 2",
   "language": "python",
   "name": "python2"
  },
  "language_info": {
   "codemirror_mode": {
    "name": "ipython",
    "version": 2
   },
   "file_extension": ".py",
   "mimetype": "text/x-python",
   "name": "python",
   "nbconvert_exporter": "python",
   "pygments_lexer": "ipython2",
   "version": "2.7.10"
  }
 },
 "nbformat": 4,
 "nbformat_minor": 0
}
