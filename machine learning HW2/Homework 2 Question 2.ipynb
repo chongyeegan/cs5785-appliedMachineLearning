{
 "cells": [
  {
   "cell_type": "code",
   "execution_count": 1,
   "metadata": {},
   "outputs": [
    {
     "name": "stdout",
     "output_type": "stream",
     "text": [
      "there are 39774 samples, 20 unique types of cuisines and 6714 unique types of ingredients in the training set\n"
     ]
    }
   ],
   "source": [
    "#Homework 2 Question 2\n",
    "\n",
    "#2(b) understanding the data\n",
    "\n",
    "import json\n",
    "import numpy as np\n",
    "import pandas as pd\n",
    "\n",
    "cuisines, trainIngredients, testIngredients, uniqueCuisines, uniqueIngredients = [], [], [], [], []\n",
    "\n",
    "#loading json file\n",
    "with open('train.json') as data_train:    \n",
    "    trainData = json.load(data_train)\n",
    "\n",
    "with open('test.json') as data_test:\n",
    "    testData = json.load(data_test)\n",
    "\n",
    "#constructing relevant arrays\n",
    "for sample in trainData:\n",
    "    cuisines.append(sample['cuisine'])\n",
    "    trainIngredients.append(sample['ingredients'])\n",
    "    for ingredient in sample['ingredients']:\n",
    "        uniqueIngredients.append(ingredient)\n",
    "\n",
    "for sample in testData:\n",
    "    testIngredients.append(sample['ingredients'])\n",
    "    \n",
    "uniqueCuisines = np.unique(cuisines)\n",
    "uniqueIngredients = np.unique(uniqueIngredients)\n",
    "\n",
    "print (\"there are %d samples, %d unique types of cuisines and %d unique types of ingredients in the training set\" %(len(trainData), len(uniqueCuisines), len(uniqueIngredients)))\n"
   ]
  },
  {
   "cell_type": "code",
   "execution_count": 2,
   "metadata": {},
   "outputs": [],
   "source": [
    "#2(c) constructing feature vectors for ingredients in each sample\n",
    "\n",
    "#function to change boolean to binary \n",
    "#(http://stackoverflow.com/questions/16869990/how-to-convert-from-boolean-array-to-int-array-in-python)\n",
    "def boolstr_to_floatstr(v):\n",
    "    if v == 'True':\n",
    "        return '1'\n",
    "    elif v == 'False':\n",
    "        return '0'\n",
    "    else:\n",
    "        return v\n",
    "\n",
    "trainFeatures, testFeatures = [], [] \n",
    "\n",
    "#Creating feature vectors for dish ingredients\n",
    "for sample in trainIngredients:\n",
    "    trainFeatures.append(np.in1d(uniqueIngredients, sample))\n",
    "\n",
    "trainFeatures = np.vectorize(boolstr_to_floatstr)(trainFeatures).astype(float)\n",
    "\n",
    "for sample in testIngredients:\n",
    "    testFeatures.append(np.in1d(uniqueIngredients,sample))\n",
    "\n",
    "testFeatures = np.vectorize(boolstr_to_floatstr)(testFeatures).astype(float)\n",
    "\n",
    "#creating data frame for feature vectors\n",
    "dfTrain = pd.DataFrame(trainFeatures, columns = uniqueIngredients)\n",
    "dfTest = pd.DataFrame(testFeatures, columns = uniqueIngredients)\n"
   ]
  },
  {
   "cell_type": "code",
   "execution_count": 4,
   "metadata": {},
   "outputs": [
    {
     "name": "stdout",
     "output_type": "stream",
     "text": [
      "Results for Gaussian Naive Bayes: 0.421795395376\n",
      "Results for Bernoulli Naive Bayes: 0.645486431751\n",
      "(array([13258, 13259, 13260, ..., 39771, 39772, 39773]), array([    0,     1,     2, ..., 13255, 13256, 13257]))\n",
      "(array([    0,     1,     2, ..., 39771, 39772, 39773]), array([13258, 13259, 13260, ..., 26513, 26514, 26515]))\n",
      "(array([    0,     1,     2, ..., 26513, 26514, 26515]), array([26516, 26517, 26518, ..., 39771, 39772, 39773]))\n"
     ]
    }
   ],
   "source": [
    "#2(d) Average Classification Accuracy via Naïve Bayes Classifier\n",
    "\n",
    "#http://scikit-learn.org/stable/modules/naive_bayes.html\n",
    "#https://www.kaggle.com/wiki/GettingStartedWithPythonForDataScience/history/969\n",
    "\n",
    "from sklearn.naive_bayes import GaussianNB\n",
    "from sklearn.naive_bayes import BernoulliNB\n",
    "from sklearn import cross_validation\n",
    "\n",
    "gnb = GaussianNB()\n",
    "bnb = BernoulliNB()\n",
    "\n",
    "trainFeatures = np.array(trainFeatures)\n",
    "cuisines = np.array(cuisines)\n",
    "\n",
    "cv = cross_validation.KFold(len(trainFeatures), n_folds=3)\n",
    "\n",
    "results_gaussian, results_bernoulli = [], []\n",
    "for traincv, testcv in cv:\n",
    "    results_gaussian.append(cross_validation.cross_val_score(gnb, trainFeatures[traincv], cuisines[traincv]))\n",
    "    results_bernoulli.append(cross_validation.cross_val_score(bnb, trainFeatures[traincv], cuisines[traincv]))\n",
    "\n",
    "print \"Results for Gaussian Naive Bayes: \" + str( np.array(results_gaussian).mean() )\n",
    "print \"Results for Bernoulli Naive Bayes: \" + str( np.array(results_bernoulli).mean() )\n",
    "\n"
   ]
  },
  {
   "cell_type": "code",
   "execution_count": 8,
   "metadata": {},
   "outputs": [
    {
     "name": "stdout",
     "output_type": "stream",
     "text": [
      "[[ 0.  0.  0. ...,  0.  0.  0.]\n",
      " [ 0.  0.  0. ...,  0.  0.  0.]\n",
      " [ 0.  0.  0. ...,  0.  0.  0.]\n",
      " ..., \n",
      " [ 0.  0.  0. ...,  0.  0.  0.]\n",
      " [ 0.  0.  0. ...,  0.  0.  0.]\n",
      " [ 0.  0.  0. ...,  0.  0.  0.]]\n",
      "\n",
      "\n",
      "[[ 0.  0.  0. ...,  0.  0.  0.]\n",
      " [ 0.  0.  0. ...,  0.  0.  0.]\n",
      " [ 0.  0.  0. ...,  0.  0.  0.]\n",
      " ..., \n",
      " [ 0.  0.  0. ...,  0.  0.  0.]\n",
      " [ 0.  0.  0. ...,  0.  0.  0.]\n",
      " [ 0.  0.  0. ...,  0.  0.  0.]]\n",
      "\n",
      "\n",
      "[[ 0.  0.  0. ...,  0.  0.  0.]\n",
      " [ 0.  0.  0. ...,  0.  0.  0.]\n",
      " [ 0.  0.  0. ...,  0.  0.  0.]\n",
      " ..., \n",
      " [ 0.  0.  0. ...,  0.  0.  0.]\n",
      " [ 0.  0.  0. ...,  0.  0.  0.]\n",
      " [ 0.  0.  0. ...,  0.  0.  0.]]\n",
      "\n",
      "\n"
     ]
    }
   ],
   "source": []
  },
  {
   "cell_type": "code",
   "execution_count": 19,
   "metadata": {},
   "outputs": [
    {
     "name": "stdout",
     "output_type": "stream",
     "text": [
      "Results for logistic regression: 0.76147862508\n"
     ]
    }
   ],
   "source": [
    "#2(f) Average Classification Accuracy via Logistic Regression\n",
    "\n",
    "from sklearn.linear_model import LogisticRegression\n",
    "\n",
    "log = LogisticRegression()\n",
    "\n",
    "results_log = []\n",
    "\n",
    "for traincv, testcv in cv:\n",
    "    results_log.append(cross_validation.cross_val_score(log, trainFeatures[traincv], cuisines[traincv]))\n",
    "    \n",
    "print \"Results for logistic regression: \" + str( np.array(results_log).mean() )\n"
   ]
  },
  {
   "cell_type": "code",
   "execution_count": 34,
   "metadata": {},
   "outputs": [],
   "source": [
    "#2(f) Training - best performed classifier (logistic regression) and submitting results\n",
    "\n",
    "columnName = ['id', 'cuisine']\n",
    "testId, testCuisine  = [], []\n",
    "\n",
    "for sample in testData:\n",
    "    testId.append(sample['id'])\n",
    "    testCuisine.append(0)\n",
    "\n",
    "y_test_array = [testId, testCuisine]\n",
    "y_test_array = np.array(y_test_array)\n",
    "y_test = pd.DataFrame(y_test_array.T, columns = columnName)\n",
    "\n",
    "log.fit(trainFeatures, cuisines)\n",
    "gnb.fit(trainFeatures, cuisines)\n",
    "bnb.fit(trainFeatures, cuisines)\n",
    "predicted_log = log.predict(testFeatures)\n",
    "predicted_gnb = gnb.predict(testFeatures)\n",
    "predicted_bnb = bnb.predict(testFeatures)\n",
    "\n",
    "y_test['cuisine'] = predicted_log\n",
    "y_test.to_csv('cooking_logistic_regression.csv', index = False)\n",
    "\n",
    "y_test['cuisine'] = predicted_gnb\n",
    "y_test.to_csv('cooking_gaussian_naive_bayes.csv', index = False)\n",
    "\n",
    "y_test['cuisine'] = predicted_bnb\n",
    "y_test.to_csv('cooking_bernoulli_naive_bayes.csv', index = False)\n",
    "\n",
    "#score for logistic, gnb and bnb are 0.78319, 0.34724 and 0.71148 respectively\n",
    "\n"
   ]
  },
  {
   "cell_type": "code",
   "execution_count": 9,
   "metadata": {},
   "outputs": [
    {
     "name": "stdout",
     "output_type": "stream",
     "text": [
      "[[ 0.  0.  0. ...,  0.  0.  0.]\n",
      " [ 0.  0.  0. ...,  0.  0.  0.]\n",
      " [ 0.  0.  0. ...,  0.  0.  0.]\n",
      " ..., \n",
      " [ 0.  0.  0. ...,  0.  0.  0.]\n",
      " [ 0.  0.  0. ...,  0.  0.  0.]\n",
      " [ 0.  0.  0. ...,  0.  0.  0.]]\n"
     ]
    }
   ],
   "source": [
    "print trainFeatures"
   ]
  },
  {
   "cell_type": "code",
   "execution_count": null,
   "metadata": {
    "collapsed": true
   },
   "outputs": [],
   "source": []
  }
 ],
 "metadata": {
  "anaconda-cloud": {},
  "kernelspec": {
   "display_name": "Python 2",
   "language": "python",
   "name": "python2"
  },
  "language_info": {
   "codemirror_mode": {
    "name": "ipython",
    "version": 2
   },
   "file_extension": ".py",
   "mimetype": "text/x-python",
   "name": "python",
   "nbconvert_exporter": "python",
   "pygments_lexer": "ipython2",
   "version": "2.7.14"
  }
 },
 "nbformat": 4,
 "nbformat_minor": 1
}
