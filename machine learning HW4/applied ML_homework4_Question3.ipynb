{
 "cells": [
  {
   "cell_type": "code",
   "execution_count": 128,
   "metadata": {
    "collapsed": false
   },
   "outputs": [],
   "source": [
    "#Question 3(a) - loading Mona Lisa image\n",
    "\n",
    "from PIL import Image\n",
    "import requests\n",
    "from StringIO import StringIO\n",
    "\n",
    "#load image\n",
    "url = 'https://upload.wikimedia.org/wikipedia/commons/thumb/e/ec/Mona_Lisa%2C_by_Leonardo_da_Vinci%2C_from_C2RMF_retouched.jpg/604px-Mona_Lisa%2C_by_Leonardo_da_Vinci%2C_from_C2RMF_retouched.jpg'\n",
    "response = requests.get(url)\n",
    "img = Image.open(StringIO(response.content))\n"
   ]
  },
  {
   "cell_type": "code",
   "execution_count": 129,
   "metadata": {
    "collapsed": false
   },
   "outputs": [],
   "source": [
    "#Question 3(b) - sample 5000 random coordinates as inputs\n",
    "\n",
    "import numpy as np\n",
    "from sklearn import preprocessing #http://scikit-learn.org/stable/modules/preprocessing.html\n",
    "\n",
    "trainingCoord = []\n",
    "\n",
    "for i in range(5000):\n",
    "    array = []\n",
    "    array.append(np.random.randint(img.size[0]))\n",
    "    array.append(np.random.randint(img.size[1]))\n",
    "    trainingCoord.append(array)\n",
    "  \n",
    "\n",
    "\n",
    "##standarisation\n",
    "#trainingCoord = preprocessing.scale(np.array(trainingCoord))\n",
    "\n",
    "##normalization\n",
    "#trainingCoord = np.array(trainingCoord)\n",
    "#norm2 = LA.norm(trainingCoord, axis = 0, ord = 2)\n",
    "#for i in range(len(trainingCoord)):\n",
    "#    trainingCoord[i][0] = trainingCoord[i][0]/norm2[0]\n",
    "#    trainingCoord[i][1] = trainingCoord[i][0]/norm2[1]\n",
    "\n",
    "##mean subtraction\n",
    "#trainingCoord = np.array(trainingCoord)\n",
    "#averageTrain = np.mean(trainingCoord, axis = 0)\n",
    "#for i in range(len(trainingCoord)):\n",
    "#    trainingCoord[i][0] = trainingCoord[i][0] - averageTrain\n",
    "#    trainingCoord[i][1] = trainingCoord[i][0] - averageTrain\n",
    "\n",
    "\n",
    "#preprosessing not required\n",
    "    "
   ]
  },
  {
   "cell_type": "code",
   "execution_count": 130,
   "metadata": {
    "collapsed": false
   },
   "outputs": [],
   "source": [
    "#Question 3(c) + (d) - Preprocessing outputs and rescaling training set targets\n",
    "\n",
    "imgGrey = img.convert('L') #convert to greyscale\n",
    "trainingPix = []\n",
    "pix = imgGrey.load()\n",
    "for i in range(len(trainingCoord)):\n",
    "    trainingPix.append(float(pix[trainingCoord[i][0], trainingCoord[i][1]])/255)\n",
    "\n",
    "\n",
    "\n",
    "#regress all 3 values at once\n",
    "#trainingPix = []\n",
    "#pix = img.load()\n",
    "#for i in range(len(trainingCoord)):\n",
    "#    trainingPix.append(pix[trainingCoord[i][0], trainingCoord[i][1]])\n",
    "\n",
    "\n",
    "#scaledTrainingPix = []\n",
    "#for i in range(len(trainingPix)):\n",
    "#    array = []\n",
    "#    for j in range(len(trainingPix[i])):\n",
    "#        array.append(float(trainingPix[i][j])/255)\n",
    "#    scaledTrainingPix.append(array)\n",
    "    "
   ]
  },
  {
   "cell_type": "code",
   "execution_count": 131,
   "metadata": {
    "collapsed": false
   },
   "outputs": [],
   "source": [
    "\n",
    "\n",
    "\n"
   ]
  },
  {
   "cell_type": "code",
   "execution_count": 132,
   "metadata": {
    "collapsed": false
   },
   "outputs": [],
   "source": [
    "#Question 3(e) - other preprocessings\n",
    "\n",
    "#trainingPix = preprocessing.scale(np.array(trainingPix)) #result got worse after preprocessing\n",
    "\n",
    "#result worse and slightly stretched in normalization\n",
    "#trainingPix = np.array(trainingPix)\n",
    "#norm2 = LA.norm(trainingPix, axis = 0, ord = 2)\n",
    "#for i in range(len(trainingPix)):\n",
    "#    trainingPix[i] = trainingPix[i]/norm2\n"
   ]
  },
  {
   "cell_type": "code",
   "execution_count": 133,
   "metadata": {
    "collapsed": false
   },
   "outputs": [],
   "source": [
    "#Question 3(f)\n",
    "#reference http://www.analyticsvidhya.com/blog/2015/09/random-forest-algorithm-multiple-challenges/\n",
    "from sklearn.ensemble import RandomForestRegressor #use RandomForestClassifier for classification problem\n",
    "from matplotlib import pylab as plt\n",
    "import matplotlib.cm as cm\n",
    "\n",
    "#creating testing set\n",
    "testCoord = []\n",
    "for i in range(img.size[0]):\n",
    "    for j in range(img.size[1]):\n",
    "        array = []\n",
    "        array.append(i)\n",
    "        array.append(j)\n",
    "        testCoord.append(array)\n",
    "        \n",
    "model= RandomForestRegressor()\n",
    "model.fit(trainingCoord, trainingPix)\n",
    "predicted= model.predict(testCoord)\n",
    "\n",
    "\n",
    "#result = result.reshape(img.size[0], img.size[1])\n",
    "result = np.array(predicted, dtype=float)\n",
    "result = np.fliplr(np.rot90(result.reshape(img.size[0], img.size[1]), -1))\n",
    "plt.imshow(result, cmap = cm.Greys_r)\n",
    "plt.savefig('defaultRandomForest.png')\n",
    "plt.close\n",
    "\n"
   ]
  },
  {
   "cell_type": "code",
   "execution_count": 134,
   "metadata": {
    "collapsed": false
   },
   "outputs": [
    {
     "data": {
      "text/plain": [
       "<function matplotlib.pyplot.close>"
      ]
     },
     "execution_count": 134,
     "metadata": {},
     "output_type": "execute_result"
    }
   ],
   "source": []
  },
  {
   "cell_type": "code",
   "execution_count": 135,
   "metadata": {
    "collapsed": true
   },
   "outputs": [],
   "source": [
    "#Question 3(g) -(a)\n",
    "\n",
    "model= RandomForestRegressor(n_estimators = 1, max_depth = 1)\n",
    "model.fit(trainingCoord, trainingPix)\n",
    "predicted= model.predict(testCoord)\n",
    "result = np.array(predicted, dtype=float)\n",
    "result = np.fliplr(np.rot90(result.reshape(img.size[0], img.size[1]), -1))\n",
    "plt.imshow(result, cmap = cm.Greys_r)\n",
    "plt.savefig (\"tree1_depth1.png\")\n",
    "plt.close()\n",
    "\n",
    "model= RandomForestRegressor(n_estimators = 1, max_depth = 2)\n",
    "model.fit(trainingCoord, trainingPix)\n",
    "predicted= model.predict(testCoord)\n",
    "result = np.array(predicted, dtype=float)\n",
    "result = np.fliplr(np.rot90(result.reshape(img.size[0], img.size[1]), -1))\n",
    "plt.imshow(result, cmap = cm.Greys_r)\n",
    "plt.savefig (\"tree1_depth2.png\")\n",
    "plt.close()\n",
    "\n",
    "model= RandomForestRegressor(n_estimators = 1, max_depth = 3)\n",
    "model.fit(trainingCoord, trainingPix)\n",
    "predicted= model.predict(testCoord)\n",
    "result = np.array(predicted, dtype=float)\n",
    "result = np.fliplr(np.rot90(result.reshape(img.size[0], img.size[1]), -1))\n",
    "plt.imshow(result, cmap = cm.Greys_r)\n",
    "plt.savefig (\"tree1_depth3.png\")\n",
    "plt.close()\n",
    "\n",
    "model= RandomForestRegressor(n_estimators = 1, max_depth = 5)\n",
    "model.fit(trainingCoord, trainingPix)\n",
    "predicted= model.predict(testCoord)\n",
    "result = np.array(predicted, dtype=float)\n",
    "result = np.fliplr(np.rot90(result.reshape(img.size[0], img.size[1]), -1))\n",
    "plt.imshow(result, cmap = cm.Greys_r)\n",
    "plt.savefig (\"tree1_depth5.png\")\n",
    "plt.close()\n",
    "\n",
    "model= RandomForestRegressor(n_estimators = 1, max_depth = 10)\n",
    "model.fit(trainingCoord, trainingPix)\n",
    "predicted= model.predict(testCoord)\n",
    "result = np.array(predicted, dtype=float)\n",
    "result = np.fliplr(np.rot90(result.reshape(img.size[0], img.size[1]), -1))\n",
    "plt.imshow(result, cmap = cm.Greys_r)\n",
    "plt.savefig (\"tree1_depth10.png\")\n",
    "plt.close()\n",
    "\n",
    "\n",
    "model= RandomForestRegressor(n_estimators = 1, max_depth = 15)\n",
    "model.fit(trainingCoord, trainingPix)\n",
    "predicted= model.predict(testCoord)\n",
    "result = np.array(predicted, dtype=float)\n",
    "result = np.fliplr(np.rot90(result.reshape(img.size[0], img.size[1]), -1))\n",
    "plt.imshow(result, cmap = cm.Greys_r)\n",
    "plt.savefig (\"tree1_depth15.png\")\n",
    "plt.close()\n",
    "\n"
   ]
  },
  {
   "cell_type": "code",
   "execution_count": 136,
   "metadata": {
    "collapsed": true
   },
   "outputs": [],
   "source": [
    "#Question 3(g) -(b)\n",
    "\n",
    "model= RandomForestRegressor(n_estimators = 1, max_depth = 7)\n",
    "model.fit(trainingCoord, trainingPix)\n",
    "predicted= model.predict(testCoord)\n",
    "result = np.array(predicted, dtype=float)\n",
    "result = np.fliplr(np.rot90(result.reshape(img.size[0], img.size[1]), -1))\n",
    "plt.imshow(result, cmap = cm.Greys_r)\n",
    "plt.savefig (\"tree1_depth7.png\")\n",
    "plt.close()\n",
    "\n",
    "model= RandomForestRegressor(n_estimators = 3, max_depth = 7)\n",
    "model.fit(trainingCoord, trainingPix)\n",
    "predicted= model.predict(testCoord)\n",
    "result = np.array(predicted, dtype=float)\n",
    "result = np.fliplr(np.rot90(result.reshape(img.size[0], img.size[1]), -1))\n",
    "plt.imshow(result, cmap = cm.Greys_r)\n",
    "plt.savefig (\"tree3_depth7.png\")\n",
    "plt.close()\n",
    "\n",
    "model= RandomForestRegressor(n_estimators = 5, max_depth = 7)\n",
    "model.fit(trainingCoord, trainingPix)\n",
    "predicted= model.predict(testCoord)\n",
    "result = np.array(predicted, dtype=float)\n",
    "result = np.fliplr(np.rot90(result.reshape(img.size[0], img.size[1]), -1))\n",
    "plt.imshow(result, cmap = cm.Greys_r)\n",
    "plt.savefig (\"tree5_depth7.png\")\n",
    "plt.close()\n",
    "\n",
    "model= RandomForestRegressor(n_estimators = 10, max_depth = 7)\n",
    "model.fit(trainingCoord, trainingPix)\n",
    "predicted= model.predict(testCoord)\n",
    "result = np.array(predicted, dtype=float)\n",
    "result = np.fliplr(np.rot90(result.reshape(img.size[0], img.size[1]), -1))\n",
    "plt.imshow(result, cmap = cm.Greys_r)\n",
    "plt.savefig (\"tree10_depth7.png\")\n",
    "plt.close()\n",
    "\n",
    "model= RandomForestRegressor(n_estimators = 100, max_depth = 7)\n",
    "model.fit(trainingCoord, trainingPix)\n",
    "predicted= model.predict(testCoord)\n",
    "result = np.array(predicted, dtype=float)\n",
    "result = np.fliplr(np.rot90(result.reshape(img.size[0], img.size[1]), -1))\n",
    "plt.imshow(result, cmap = cm.Greys_r)\n",
    "plt.savefig (\"tree100_depth7.png\")\n",
    "plt.close()\n",
    "\n"
   ]
  },
  {
   "cell_type": "code",
   "execution_count": 137,
   "metadata": {
    "collapsed": true
   },
   "outputs": [],
   "source": [
    "#Question 3(g) -(c)\n",
    "\n",
    "from sklearn.neighbors import KNeighborsRegressor #http://scikit-learn.org/stable/modules/generated/sklearn.neighbors.KNeighborsRegressor.html\n",
    "\n",
    "model = KNeighborsRegressor(n_neighbors=1)\n",
    "model.fit(trainingCoord, trainingPix) \n",
    "predicted = model.predict(testCoord)\n",
    "result = np.array(predicted, dtype=float)\n",
    "result = np.fliplr(np.rot90(result.reshape(img.size[0], img.size[1]), -1))\n",
    "plt.imshow(result, cmap = cm.Greys_r)\n",
    "plt.savefig (\"KNN.png\")\n",
    "plt.close()\n"
   ]
  },
  {
   "cell_type": "code",
   "execution_count": 219,
   "metadata": {
    "collapsed": false
   },
   "outputs": [
    {
     "name": "stdout",
     "output_type": "stream",
     "text": [
      "[[ 0.]]\n",
      "[[ 0.]]\n",
      "[[ 0.48034698]]\n",
      "[[ 0.35139985]]\n",
      "[[ 0.]]\n",
      "[[ 0.19924863]]\n",
      "[[ 0.0745503]]\n"
     ]
    }
   ],
   "source": [
    "#Question 3(h) - (a)\n",
    "\n",
    "from sklearn.externals.six import StringIO\n",
    "from sklearn import tree\n",
    "from inspect import getmembers\n",
    "from IPython.display import Image \n",
    "\n",
    "model= RandomForestRegressor(n_estimators = 10, max_depth = 7)\n",
    "model.fit(trainingCoord, trainingPix)\n",
    "predicted= model.predict(testCoord)\n",
    "forestTree = model.estimators_[0]\n",
    "\n",
    "with open(\"decisionTree.dot\", 'w') as f: #http://scikit-learn.org/stable/modules/tree.html\n",
    "    f = tree.export_graphviz(forestTree, out_file=f)\n",
    "    for row in forestTree.tree_.value:\n",
    "        print row\n",
    "    #zip(X.columns[clf.tree_.feature], clf.tree_.threshold, clf.tree_.children_left, clf.tree_.children_right\n",
    "    #for row in (getmembers( forestTree.tree_ )):\n",
    "    #    for column in row:\n",
    "    #        print column\n",
    "            \n",
    "\n",
    "    \n",
    "    \n"
   ]
  },
  {
   "cell_type": "code",
   "execution_count": 211,
   "metadata": {
    "collapsed": false
   },
   "outputs": [
    {
     "name": "stdout",
     "output_type": "stream",
     "text": [
      "(604, 900)\n"
     ]
    }
   ],
   "source": [
    "print imgGrey.size"
   ]
  },
  {
   "cell_type": "code",
   "execution_count": null,
   "metadata": {
    "collapsed": true
   },
   "outputs": [],
   "source": []
  }
 ],
 "metadata": {
  "kernelspec": {
   "display_name": "Python 2",
   "language": "python",
   "name": "python2"
  },
  "language_info": {
   "codemirror_mode": {
    "name": "ipython",
    "version": 2
   },
   "file_extension": ".py",
   "mimetype": "text/x-python",
   "name": "python",
   "nbconvert_exporter": "python",
   "pygments_lexer": "ipython2",
   "version": "2.7.10"
  }
 },
 "nbformat": 4,
 "nbformat_minor": 0
}
