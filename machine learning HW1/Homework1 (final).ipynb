{
 "cells": [
  {
   "cell_type": "code",
   "execution_count": 5,
   "metadata": {
    "collapsed": false
   },
   "outputs": [
    {
     "name": "stdout",
     "output_type": "stream",
     "text": [
      "[ 0.79461279  0.79124579  0.80808081]\n",
      "0.79797979798\n"
     ]
    }
   ],
   "source": [
    "import pandas as pd\n",
    "import numpy as np\n",
    "import csv\n",
    "from sklearn.linear_model import LogisticRegression\n",
    "from sklearn import cross_validation\n",
    "\n",
    "\n",
    "# Import the csv file, and skipping the first row as it's header\n",
    "train = pd.read_csv('./train2.csv', header=0)\n",
    "test = pd.read_csv('./test2.csv', header=0)\n",
    "\n",
    "# Adding for binary values of Sex (females = 0, males = 1)\n",
    "train['Sex'] = train['Sex'].map( {'female': 0, 'male': 1} ).astype(int)\n",
    "test['Sex'] = test['Sex'].map( {'female': 0, 'male': 1} ).astype(int)\n",
    "\n",
    "\n",
    "#Dealing with NA values of ages \n",
    "median_ages = np.zeros((2,3)) #creating array of median ages for different sex and class\n",
    "for i in range(0, 2):\n",
    "    for j in range(0, 3):\n",
    "        median_ages[i,j] = train[(train['Sex'] == i) & (train['Pclass'] == j+1)]['Age'].dropna().median()\n",
    "        #median_fare[i,j] = train[(train['Sex'] == i) & (train['Pclass'] == j+1)]['Fare'].dropna().median()\n",
    "\n",
    "for i in range(0, 2): #filling in the NA values with appropriate values\n",
    "    for j in range(0, 3):\n",
    "        train.loc[ (train.Age.isnull()) & (train.Sex == i) & (train.Pclass == j+1),'Age'] = median_ages[i,j]\n",
    "        test.loc[ (test.Age.isnull()) & (test.Sex == i) & (test.Pclass == j+1),'Age'] = median_ages[i,j]\n",
    "        \n",
    "#Dealing with NA values of fare\n",
    "test.loc[ (test.Fare.isnull()),'Fare'] =  train['Fare'].mean()\n",
    "\n",
    "# Converting fares into categorical features ($0-9 = 0,  $10-19 = 1,  $20-29 = 2,  $30-39 = 3) \n",
    "fare_ceiling = 40 #any fare that costs more than or equal to 40 will be put in the highest fare bin - fare bin 3\n",
    "fare_bracket_size = 10\n",
    "number_of_fares = fare_ceiling / fare_bracket_size\n",
    "number_of_classes = 3 \n",
    "train['BinFare'] = ((train.Fare/fare_bracket_size).clip_upper(number_of_fares-1).astype(np.int))\n",
    "test['BinFare'] = ((test.Fare/fare_bracket_size).clip_upper(number_of_fares-1).astype(np.int))\n",
    "\n",
    "# Dealing with categorical features through dummy variables\n",
    "dummy_class = pd.get_dummies(train['Pclass'], prefix='class')\n",
    "dummy_embarked = pd.get_dummies(train['Embarked'], prefix='embarked')\n",
    "dummy_binFare = pd.get_dummies(train['BinFare'], prefix='binFare')\n",
    "\n",
    "train_cols_to_keep = (train.columns.values)\n",
    "test_cols_to_keep = (test.columns.values)\n",
    "\n",
    "train = train[train_cols_to_keep].join(dummy_class.ix[:, :]).join(dummy_embarked.ix[:, :]).join(dummy_binFare.ix[:, :]) #Join dummy variables for embarked, class and bin fare\n",
    "test = test[test_cols_to_keep].join(dummy_class.ix[:, :]).join(dummy_embarked.ix[:, :]).join(dummy_binFare.ix[:, :])\n",
    "\n",
    "#add intercept for categorical features\n",
    "train['intercept'] = 1.0 \n",
    "test['intercept'] = 1.0 \n",
    "\n",
    "# Creating target vector for training data\n",
    "y_train = train['Survived'] \n",
    "test['Survived'] = 0\n",
    "y_test = test[ ['PassengerId', 'Survived'] ]\n",
    "\n",
    "# Dropping unused features\n",
    "train = train.drop(['PassengerId','Survived','Ticket','Cabin','Name','Pclass', 'Embarked', 'Fare'], axis=1) #ticket and cabin features have too many NA values. Name has too many categories that cannot be reduced. Sex, Age, Pclass and Embarked are ignored post data cleaning.\n",
    "test = test.drop(['PassengerId','Survived','Ticket','Cabin','Name','Pclass', 'Embarked', 'Fare'], axis=1) #ticket and cabin features have too many NA values. Name has too many categories that cannot be reduced. Sex, Age, Pclass and Embarked are ignored post data cleaning.\n",
    "\n",
    "# Creating Logistic Regression model\n",
    "model = LogisticRegression()\n",
    "model.fit(train, y_train)\n",
    "\n",
    "# Finding out accuracy via cross validation score for training data\n",
    "scores = cross_validation.cross_val_score(model, train, y_train)\n",
    "print(scores)\n",
    "print(np.mean(scores))\n",
    "\n",
    "#Predicting output of testing data\n",
    "predicted = model.predict(test)\n",
    "y_test['Survived'] = predicted\n",
    "\n",
    "#Output CSV file\n",
    "y_test.to_csv('ModernAnalytics_logisticRegression.csv', index = False)"
   ]
  },
  {
   "cell_type": "code",
   "execution_count": null,
   "metadata": {
    "collapsed": true
   },
   "outputs": [],
   "source": []
  },
  {
   "cell_type": "code",
   "execution_count": null,
   "metadata": {
    "collapsed": true
   },
   "outputs": [],
   "source": []
  }
 ],
 "metadata": {
  "kernelspec": {
   "display_name": "Python [Root]",
   "language": "python",
   "name": "Python [Root]"
  },
  "language_info": {
   "codemirror_mode": {
    "name": "ipython",
    "version": 3
   },
   "file_extension": ".py",
   "mimetype": "text/x-python",
   "name": "python",
   "nbconvert_exporter": "python",
   "pygments_lexer": "ipython3",
   "version": "3.5.2"
  }
 },
 "nbformat": 4,
 "nbformat_minor": 0
}
